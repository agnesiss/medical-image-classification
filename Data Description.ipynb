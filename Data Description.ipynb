{
 "cells": [
  {
   "cell_type": "code",
   "execution_count": null,
   "id": "0058f845",
   "metadata": {
    "vscode": {
     "languageId": "plaintext"
    }
   },
   "outputs": [],
   "source": [
    "import kagglehub\n",
    "from kagglehub import KaggleDatasetAdapter\n",
    "\n",
    "file_path = \"Data_Entry_2017.csv\"\n",
    "\n",
    "df = kagglehub.load_dataset(\n",
    "  KaggleDatasetAdapter.PANDAS,\n",
    "  \"nih-chest-xrays/data\",\n",
    "  file_path,\n",
    ")"
   ]
  },
  {
   "cell_type": "code",
   "execution_count": null,
   "id": "3434a7f9",
   "metadata": {
    "vscode": {
     "languageId": "plaintext"
    }
   },
   "outputs": [],
   "source": [
    "all_labels = df['Finding Labels'].apply(lambda x: x.split('|'))\n",
    "flat_labels = [label for sublist in all_labels for label in sublist]\n",
    "label_counts = Counter(flat_labels)\n",
    "\n",
    "sorted_labels = sorted(label_counts.items(), key=lambda item: item[1], reverse=True)\n",
    "sorted_keys = [item[0] for item in sorted_labels]\n",
    "sorted_values = [item[1] for item in sorted_labels]\n",
    "\n",
    "plt.figure(figsize=(12, 6))\n",
    "plt.bar(sorted_keys, sorted_values)\n",
    "plt.xticks(rotation=45)\n",
    "plt.title('Disease Distribution')\n",
    "plt.xlabel('Disease')\n",
    "plt.ylabel('Count')\n",
    "plt.tight_layout()\n",
    "plt.show()"
   ]
  },
  {
   "cell_type": "code",
   "execution_count": null,
   "id": "035f9164",
   "metadata": {
    "vscode": {
     "languageId": "plaintext"
    }
   },
   "outputs": [],
   "source": [
    "new_df = df.copy()\n",
    "\n",
    "df['Finding Labels'] = df['Finding Labels'].str.split('|')\n",
    "expanded_df = df.explode('Finding Labels')\n",
    "\n",
    "image_count = expanded_df['Finding Labels'].value_counts()\n",
    "unique_records = expanded_df.drop_duplicates(subset=['Patient ID', 'Finding Labels'])\n",
    "patient_count = unique_records.groupby('Finding Labels')['Patient ID'].nunique()\n",
    "\n",
    "combined_df = pd.DataFrame({\n",
    "    'Image Count': image_count,\n",
    "    'Patient Count': patient_count\n",
    "}).fillna(0).astype(int)\n",
    "\n",
    "combined_df = combined_df.sort_values(by='Image Count', ascending=False)\n",
    "\n",
    "plt.figure(figsize=(14, 8))\n",
    "bar_width = 0.4\n",
    "x = range(len(combined_df))\n",
    "\n",
    "plt.bar(x, combined_df['Image Count'], width=bar_width, label='Image Count', alpha=0.8)\n",
    "plt.bar([i + bar_width for i in x], combined_df['Patient Count'], width=bar_width, label='Patient Count', alpha=0.8)\n",
    "plt.xticks([i + bar_width / 2 for i in x], combined_df.index, rotation=45)\n",
    "plt.xlabel('Disease')\n",
    "plt.ylabel('Count')\n",
    "plt.title('Image Count vs Patient Count')\n",
    "plt.legend()\n",
    "plt.tight_layout()\n",
    "plt.show()\n",
    "df = new_df"
   ]
  },
  {
   "cell_type": "code",
   "execution_count": null,
   "id": "d2ca8928",
   "metadata": {
    "vscode": {
     "languageId": "plaintext"
    }
   },
   "outputs": [],
   "source": [
    "df['num_labels'] = df['Finding Labels'].str.split('|').apply(len)\n",
    "label_counts = df['num_labels'].value_counts().sort_index()\n",
    "\n",
    "merged_counts = label_counts.copy()\n",
    "if len(merged_counts[merged_counts.index > 3]) > 0:\n",
    "    merged_counts = pd.Series({\n",
    "        **merged_counts[merged_counts.index <= 3].to_dict(),\n",
    "        '>3': merged_counts[merged_counts.index > 3].sum()\n",
    "    })\n",
    "\n",
    "plt.figure(figsize=(8, 5))\n",
    "merged_counts.plot(kind='pie', autopct='%1.1f%%', startangle=90, colors=plt.cm.Paired.colors[:len(merged_counts)])\n",
    "plt.title(\"Distribution of the Number of Labels per Image\")\n",
    "plt.axis('equal')\n",
    "plt.show()"
   ]
  },
  {
   "cell_type": "code",
   "execution_count": null,
   "id": "e8d75b35",
   "metadata": {
    "vscode": {
     "languageId": "plaintext"
    }
   },
   "outputs": [],
   "source": [
    "label_col = 'Finding Labels'\n",
    "\n",
    "all_labels = df[label_col].str.split('|')\n",
    "unique_labels = sorted(set(label for sublist in all_labels for label in sublist if label != 'No Finding'))\n",
    "\n",
    "multi_hot_df = pd.DataFrame(0, index=df.index, columns=unique_labels)\n",
    "for i, labels in enumerate(all_labels):\n",
    "    for label in labels:\n",
    "        if label != 'No Finding':\n",
    "            multi_hot_df.loc[i, label] = 1\n",
    "\n",
    "co_matrix = multi_hot_df.T.dot(multi_hot_df)\n",
    "\n",
    "plt.figure(figsize=(12, 10))\n",
    "sns.heatmap(co_matrix, cmap='coolwarm', annot=True, fmt='d')\n",
    "plt.title('Multi-Label Co-occurrence Matrix')\n",
    "plt.show()"
   ]
  }
 ],
 "metadata": {
  "language_info": {
   "name": "python"
  }
 },
 "nbformat": 4,
 "nbformat_minor": 5
}
